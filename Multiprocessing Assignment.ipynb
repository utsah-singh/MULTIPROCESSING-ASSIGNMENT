{
 "cells": [
  {
   "cell_type": "markdown",
   "id": "7afab522-1b42-4643-87a8-e88e5f5c3e75",
   "metadata": {},
   "source": [
    "Answer = 1"
   ]
  },
  {
   "cell_type": "markdown",
   "id": "421d669a-f184-4813-bda7-32caefafeaa4",
   "metadata": {},
   "source": [
    "Multiprocessing in Python refers to a module that allows the concurrent execution of tasks across multiple processes. This module bypasses the Global Interpreter Lock (GIL) that can limit the performance of CPU-bound programs when using threads. The multiprocessing module supports spawning processes using an API similar to the threading module and provides local and remote concurrency through both processes and threads. \n",
    "\n",
    "1. CPU-Bound Task Efficiency: Multiprocessing allows you to make full use of multiple CPU cores, improving the performance of CPU-intensive tasks.\n",
    "2. Bypassing the GIL: Python’s GIL can be a bottleneck in multi-threaded programs that perform CPU-bound tasks. Multiprocessing bypasses the GIL, allowing multiple processes to run concurrently.\n",
    "3. Improved Responsiveness: In applications where responsiveness is crucial (e.g., web servers), multiprocessing can ensure that tasks are handled concurrently without significant delay.\n",
    "4. Fault Isolation: Separate processes are isolated from each other. A crash in one process won’t affect the others, which can enhance the stability of the application.\n",
    "5. Scalability: Multiprocessing can better utilize multi-core systems, making applications more scalable and efficient in terms of resource utilization.\n",
    "\n",
    "Example of Using Multiprocessing in Python"
   ]
  },
  {
   "cell_type": "code",
   "execution_count": 1,
   "id": "06af2e58-9c47-4df6-9d93-4ef5b6b431a8",
   "metadata": {},
   "outputs": [
    {
     "name": "stdout",
     "output_type": "stream",
     "text": [
      "Hello from the worker process!\n"
     ]
    }
   ],
   "source": [
    "from multiprocessing import Process, Queue\n",
    "\n",
    "def worker(queue):\n",
    "    queue.put('Hello from the worker process!')\n",
    "\n",
    "if __name__ == '__main__':\n",
    "    queue = Queue()\n",
    "    p = Process(target=worker, args=(queue,))\n",
    "    p.start()\n",
    "    p.join()\n",
    "    print(queue.get())"
   ]
  },
  {
   "cell_type": "markdown",
   "id": "617a404e-5b61-4014-a5cb-0a0fae839a45",
   "metadata": {},
   "source": [
    "Answer = 2"
   ]
  },
  {
   "cell_type": "markdown",
   "id": "43792b9e-b9e7-4154-bcae-501151f403cb",
   "metadata": {},
   "source": [
    "Differences Between Multiprocessing and Multithreading\n",
    "\n",
    "1. Definition and Concept:\n",
    ". Multiprocessing:\n",
    " . Involves multiple threads within a single process.\n",
    " . Threads share the same memory space and resources of the process.\n",
    ". Multithreading:\n",
    "  . Involves multiple threads within a single process.\n",
    "  \n",
    "  . Threads share the same memory space and resources of the process.\n",
    "\n",
    "\n",
    "2. Concurrency Model:\n",
    " . Multiprocessing:\n",
    "   . True parallelism is achieved because each process runs independently on a separate CPU core.\n",
    "   . Suitable for CPU-bound tasks.\n",
    "   \n",
    " . Multithreading:\n",
    "   . Threads run concurrently within the same process and share the same memory space.\n",
    "   . uitable for I/O-bound tasks where waiting for I/O operations (like file reads/writes, network requests) allows for thread switching.\n",
    "   \n",
    "3. Global Interpreter Lock (GIL):\n",
    " . Multiprocessing:\n",
    "   . Each process has its own Python interpreter and memory space, effectively bypassing the GIL.\n",
    "   . Ideal for CPU-intensive operations that benefit from parallel execution.\n",
    " . Multithreading:\n",
    "   . All threads run under a single interpreter instance, constrained by the GIL.\n",
    "   . Threads may not fully utilize multiple CPU cores for CPU-bound tasks due to the GIL.\n",
    "   \n",
    "4. Memory and Resource Management:\n",
    " . Multiprocessing:\n",
    "   . Each process has its own separate memory space, leading to higher memory usage.\n",
    "   . Processes do not share memory, making inter-process communication more complex.\n",
    " Multithreading:\n",
    "   . Threads share the same memory space, leading to more efficient memory usage.\n",
    "   . Shared memory simplifies communication between threads but requires synchronization to prevent data corruption.\n",
    "   \n",
    "5. Inter-Process/Thread Communication:\n",
    " . Multiprocessing:\n",
    "   . Uses mechanisms like pipes, queues, shared memory, and sockets for inter-process communication (IPC)\n",
    "   . IPC is generally more complex and slower due to the separate memory spaces.\n",
    " . Multithreading:\n",
    "   . Communication between threads is easier and faster since they share the same memory space.\n",
    "   . Requires synchronization primitives like locks, semaphores, and conditions to manage access to shared resources.\n",
    "   \n",
    "   Example Comparison\n",
    "   \n",
    "   Here’s a simple example to illustrate the difference between multiprocessing and multithreading:\n",
    "\n",
    " Multiprocessing Example:"
   ]
  },
  {
   "cell_type": "code",
   "execution_count": 2,
   "id": "db7cc491-cc2c-4815-bada-05b40bae313c",
   "metadata": {},
   "outputs": [
    {
     "name": "stdout",
     "output_type": "stream",
     "text": [
      "Worker process\n",
      "Worker process\n",
      "Worker process\n",
      "Worker process\n"
     ]
    }
   ],
   "source": [
    "from multiprocessing import Process\n",
    "\n",
    "def worker():\n",
    "    print('Worker process')\n",
    "\n",
    "if __name__ == '__main__':\n",
    "    processes = []\n",
    "    for _ in range(4):\n",
    "        p = Process(target=worker)\n",
    "        processes.append(p)\n",
    "        p.start()\n",
    "\n",
    "    for p in processes:\n",
    "        p.join()"
   ]
  },
  {
   "cell_type": "markdown",
   "id": "c1336b94-20c0-4d5b-a26b-ffe343aed191",
   "metadata": {},
   "source": [
    "Multithreading Example:"
   ]
  },
  {
   "cell_type": "code",
   "execution_count": 3,
   "id": "f95f4789-a859-4385-9262-efc67ca97ca6",
   "metadata": {},
   "outputs": [
    {
     "name": "stdout",
     "output_type": "stream",
     "text": [
      "Worker thread\n",
      "Worker thread\n",
      "Worker thread\n",
      "Worker thread\n"
     ]
    }
   ],
   "source": [
    "from threading import Thread\n",
    "\n",
    "def worker():\n",
    "    print('Worker thread')\n",
    "\n",
    "if __name__ == '__main__':\n",
    "    threads = []\n",
    "    for _ in range(4):\n",
    "        t = Thread(target=worker)\n",
    "        threads.append(t)\n",
    "        t.start()\n",
    "\n",
    "    for t in threads:\n",
    "        t.join()"
   ]
  },
  {
   "cell_type": "markdown",
   "id": "894c4790-0b97-4857-9204-d6d1067065aa",
   "metadata": {},
   "source": [
    "Answer = 3\n"
   ]
  },
  {
   "cell_type": "code",
   "execution_count": 4,
   "id": "356af75d-3871-414a-a677-ad06e4428d4f",
   "metadata": {},
   "outputs": [
    {
     "name": "stdout",
     "output_type": "stream",
     "text": [
      "Worker process is running\n",
      "Main process is done\n"
     ]
    }
   ],
   "source": [
    "from multiprocessing import Process\n",
    "\n",
    "def worker():\n",
    "    \"\"\"Function to be executed in a separate process\"\"\"\n",
    "    print('Worker process is running')\n",
    "\n",
    "if __name__ == '__main__':\n",
    "    # Create a Process object\n",
    "    p = Process(target=worker)\n",
    "    \n",
    "    # Start the process\n",
    "    p.start()\n",
    "    \n",
    "    # Wait for the process to finish\n",
    "    p.join()\n",
    "    \n",
    "    print('Main process is done')"
   ]
  },
  {
   "cell_type": "markdown",
   "id": "96c22815-1d5a-410a-aee8-c5d59ac0b233",
   "metadata": {},
   "source": [
    "Answer = 4"
   ]
  },
  {
   "cell_type": "markdown",
   "id": "ccb8377c-19b5-45a4-af61-5fa9ba52b73e",
   "metadata": {},
   "source": [
    "A multiprocessing pool in Python is a feature provided by the multiprocessing module that allows you to manage and control a pool of worker processes. The Pool class simplifies the process of parallelizing the execution of a function across multiple input values, distributing the tasks among multiple processes.\n",
    "\n",
    "1. Simplifies Parallel Execution:\n",
    "   . he Pool class abstracts the details of process management, making it easier to parallelize tasks without manually handling individual processes.\n",
    "2. Efficient Resource Utilization:\n",
    "   . By managing a pool of worker processes, the Pool class ensures that CPU cores are efficiently utilized.\n",
    "   .It helps in achieving better performance, especially for CPU-bound tasks.\n",
    "3. Concurrency for Multiple Tasks:\n",
    "   . Ideal for scenarios where the same function needs to be applied to a large set of data.\n",
    "   . The pool can execute multiple instances of the function concurrently, significantly reducing execution time."
   ]
  },
  {
   "cell_type": "code",
   "execution_count": 5,
   "id": "da211d1a-8b65-430d-9965-03f8c340f51c",
   "metadata": {},
   "outputs": [
    {
     "name": "stdout",
     "output_type": "stream",
     "text": [
      "[1, 4, 9, 16, 25]\n"
     ]
    }
   ],
   "source": [
    "from multiprocessing import Pool\n",
    "\n",
    "def square(n):\n",
    "    \"\"\"Function to compute the square of a number\"\"\"\n",
    "    return n * n\n",
    "\n",
    "if __name__ == '__main__':\n",
    "    # Create a pool of worker processes\n",
    "    with Pool(processes=4) as pool:\n",
    "        # Define the list of input values\n",
    "        inputs = [1, 2, 3, 4, 5]\n",
    "        \n",
    "        # Use the map method to apply the 'square' function to each input value in parallel\n",
    "        results = pool.map(square, inputs)\n",
    "        \n",
    "        # Print the results\n",
    "        print(results)"
   ]
  },
  {
   "cell_type": "markdown",
   "id": "713995f3-7d89-45d7-94b7-e0847137635f",
   "metadata": {},
   "source": [
    "Answer = 5"
   ]
  },
  {
   "cell_type": "markdown",
   "id": "6c9b14f6-3d37-4105-92e7-5e6507c2190e",
   "metadata": {},
   "source": [
    "To create a pool of worker processes in Python using the multiprocessing module, you can use the Pool class. This class allows you to manage multiple worker processes to execute tasks concurrently. Here is a step-by-step guide on how to create and use a pool of worker processes:\n",
    "\n",
    "Step-by-Step Guide\n",
    "\n",
    "1. Import the Required Module:\n",
    "   . Import the Pool class from the multiprocessing module.\n",
    "2. Define the Task Function:\n",
    "   . Define the function that you want to execute in parallel across multiple processes.\n",
    "3. Create a Pool of Worker Processes:\n",
    "   . Instantiate a Pool object with a specified number of worker processes.\n",
    "4. Distribute Tasks to the Pool:\n",
    "   . Use methods like map, apply, map_async, or apply_async to distribute tasks to the worker processes.\n",
    "5. Close and Join the Pool:\n",
    "   . Properly close the pool and wait for all worker processes to complete their tasks.\n",
    "   \n",
    "    Example Code\n",
    "   \n",
    "   "
   ]
  },
  {
   "cell_type": "code",
   "execution_count": 6,
   "id": "f0d0e3bc-8c07-4ecf-889d-ca45105827fb",
   "metadata": {},
   "outputs": [
    {
     "name": "stdout",
     "output_type": "stream",
     "text": [
      "[1, 4, 9, 16, 25]\n"
     ]
    }
   ],
   "source": [
    "from multiprocessing import Pool\n",
    "\n",
    "def square(n):\n",
    "    \"\"\"Function to compute the square of a number\"\"\"\n",
    "    return n * n\n",
    "\n",
    "if __name__ == '__main__':\n",
    "    # Step 3: Create a pool of worker processes\n",
    "    with Pool(processes=4) as pool:\n",
    "        # Step 2: Define the list of input values\n",
    "        inputs = [1, 2, 3, 4, 5]\n",
    "        \n",
    "        # Step 4: Distribute tasks to the pool using the map method\n",
    "        results = pool.map(square, inputs)\n",
    "        \n",
    "        # Print the results\n",
    "        print(results)"
   ]
  },
  {
   "cell_type": "markdown",
   "id": "50cc0a5d-821c-4119-b703-f0cd4d23c56c",
   "metadata": {},
   "source": [
    "Answer = 6\n"
   ]
  },
  {
   "cell_type": "code",
   "execution_count": 7,
   "id": "641afb20-9e24-4649-a091-df4f9df28277",
   "metadata": {},
   "outputs": [
    {
     "name": "stdout",
     "output_type": "stream",
     "text": [
      "Process 1 is printing number: 1\n",
      "Process 2 is printing number: 2\n",
      "Process 3 is printing number: 3\n",
      "Process 4 is printing number: 4\n",
      "All processes are done\n"
     ]
    }
   ],
   "source": [
    "from multiprocessing import Process\n",
    "\n",
    "def print_number(number):\n",
    "    \"\"\"Function to print the given number\"\"\"\n",
    "    print(f'Process {number} is printing number: {number}')\n",
    "\n",
    "if __name__ == '__main__':\n",
    "    # Define the list of numbers to be printed\n",
    "    numbers = [1, 2, 3, 4]\n",
    "    \n",
    "    # Create a list to keep track of the processes\n",
    "    processes = []\n",
    "    \n",
    "    # Create and start a process for each number\n",
    "    for number in numbers:\n",
    "        p = Process(target=print_number, args=(number,))\n",
    "        processes.append(p)\n",
    "        p.start()\n",
    "    \n",
    "    # Wait for all processes to complete\n",
    "    for p in processes:\n",
    "        p.join()\n",
    "    \n",
    "    print('All processes are done')"
   ]
  },
  {
   "cell_type": "markdown",
   "id": "56100634-40a1-41ef-9966-8070a5df48d6",
   "metadata": {},
   "source": [
    "THANKS\n"
   ]
  },
  {
   "cell_type": "markdown",
   "id": "1bbddc82-0e22-4acb-a254-0915b7d0ff35",
   "metadata": {},
   "source": [
    "MULTIPROCESSING ASSIGNMENT DONE "
   ]
  },
  {
   "cell_type": "code",
   "execution_count": null,
   "id": "3a0ee1e8-3361-4e6e-81ce-2938de11a085",
   "metadata": {},
   "outputs": [],
   "source": []
  }
 ],
 "metadata": {
  "kernelspec": {
   "display_name": "Python 3 (ipykernel)",
   "language": "python",
   "name": "python3"
  },
  "language_info": {
   "codemirror_mode": {
    "name": "ipython",
    "version": 3
   },
   "file_extension": ".py",
   "mimetype": "text/x-python",
   "name": "python",
   "nbconvert_exporter": "python",
   "pygments_lexer": "ipython3",
   "version": "3.10.8"
  }
 },
 "nbformat": 4,
 "nbformat_minor": 5
}
